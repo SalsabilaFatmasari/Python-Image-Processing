{
 "cells": [
  {
   "cell_type": "code",
   "execution_count": 1,
   "id": "1f45b3ca",
   "metadata": {},
   "outputs": [
    {
     "ename": "ModuleNotFoundError",
     "evalue": "No module named 'face_recognition'",
     "output_type": "error",
     "traceback": [
      "\u001b[1;31m---------------------------------------------------------------------------\u001b[0m",
      "\u001b[1;31mModuleNotFoundError\u001b[0m                       Traceback (most recent call last)",
      "Cell \u001b[1;32mIn[1], line 2\u001b[0m\n\u001b[0;32m      1\u001b[0m \u001b[38;5;28;01mimport\u001b[39;00m \u001b[38;5;21;01mcv2\u001b[39;00m\n\u001b[1;32m----> 2\u001b[0m \u001b[38;5;28;01mimport\u001b[39;00m \u001b[38;5;21;01mface_recognition\u001b[39;00m\n",
      "\u001b[1;31mModuleNotFoundError\u001b[0m: No module named 'face_recognition'"
     ]
    }
   ],
   "source": [
    "import cv2\n",
    "import face_recognition"
   ]
  },
  {
   "cell_type": "code",
   "execution_count": null,
   "id": "839b8904",
   "metadata": {},
   "outputs": [],
   "source": [
    "imgJokowi = face_recognition.load_image_file('ImagesBasic/Salsa.jpg')\n",
    "imgJokowi = cv2.cvtColor(imgJokowi, cv2.COLOR_BGR2RGB)\n",
    "imgTest = face_recognition.load_image_file('ImagesBasic/Salsa.jpg')\n",
    "imgTest = cv2.cvtColor(imgTest, cv2.COLOR_BGR2RGB)"
   ]
  },
  {
   "cell_type": "code",
   "execution_count": null,
   "id": "11f7a1dd",
   "metadata": {},
   "outputs": [],
   "source": [
    "faceLoc = face_recognition.face_locations(imgJokowi)[0]\n",
    "encodeJokowi = face_recognition.face_encodings(imgJokowi)[0]\n",
    "cv2.rectangle(imgJokowi, (faceLoc[3], faceLoc[0]), (faceLoc[1], faceLoc[2]), (255, 0, 255), 2)"
   ]
  },
  {
   "cell_type": "code",
   "execution_count": null,
   "id": "7babb3f9",
   "metadata": {},
   "outputs": [],
   "source": [
    "faceLocTest = face_recognition.face_locations(imgTest)[0]\n",
    "encodeTest = face_recognition.face_encodings(imgTest)[0]\n",
    "cv2.rectangle(imgTest, (faceLocTest[3], faceLocTest[0]), (faceLocTest[1], faceLocTest[2]), (255, 0, 255), 2)"
   ]
  },
  {
   "cell_type": "code",
   "execution_count": null,
   "id": "19bb5a95",
   "metadata": {},
   "outputs": [],
   "source": [
    "results = face_recognition.compare_faces([encodeJokowi], encodeTest)\n",
    "faceDis = face_recognition.face_distance([encodeJokowi], encodeTest)\n",
    "print(results, faceDis)\n",
    "cv2.putText(imgTest, f'{results} {round(faceDis[0], 2)}', (50, 50), cv2.FONT_HERSHEY_COMPLEX, 1, (0, 0, 255), 2)"
   ]
  },
  {
   "cell_type": "code",
   "execution_count": null,
   "id": "7e4ec449",
   "metadata": {},
   "outputs": [],
   "source": [
    "cv2.imshow('Jokowi', imgJokowi)\n",
    "cv2.imshow('Test', imgTest)\n",
    "cv2.waitKey(0\n",
    "            )"
   ]
  }
 ],
 "metadata": {
  "jupytext": {
   "cell_metadata_filter": "-all",
   "main_language": "python",
   "notebook_metadata_filter": "-all"
  },
  "kernelspec": {
   "display_name": "Python 3 (ipykernel)",
   "language": "python",
   "name": "python3"
  },
  "language_info": {
   "codemirror_mode": {
    "name": "ipython",
    "version": 3
   },
   "file_extension": ".py",
   "mimetype": "text/x-python",
   "name": "python",
   "nbconvert_exporter": "python",
   "pygments_lexer": "ipython3",
   "version": "3.10.10"
  }
 },
 "nbformat": 4,
 "nbformat_minor": 5
}
